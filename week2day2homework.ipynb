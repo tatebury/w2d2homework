{
 "cells": [
  {
   "cell_type": "markdown",
   "source": [
    "## Exercise 1 <br>\n",
    "<p>Given a list as a parameter,write a function that returns a list of numbers that are less than ten</b></i></p><br>\n",
    "<p> For example: Say your input parameter to the function is [1,11,14,5,8,9]...Your output should [1,5,8,9]</p>"
   ],
   "metadata": {}
  },
  {
   "cell_type": "code",
   "execution_count": 1,
   "source": [
    "# Use the following list - [1,11,14,5,8,9]\r\n",
    "myList = [1,11,14,5,8,9]\r\n",
    "\r\n",
    "def lessThanTen(myList):\r\n",
    "    newList = []\r\n",
    "    for x in myList:\r\n",
    "        if x < 10:\r\n",
    "            newList.append(x)\r\n",
    "    return newList\r\n",
    "\r\n",
    "\r\n",
    "def lessThan(myList):\r\n",
    "    return [x for x in myList if x<10]"
   ],
   "outputs": [],
   "metadata": {}
  },
  {
   "cell_type": "code",
   "execution_count": 2,
   "source": [
    "print(lessThanTen(myList))\r\n",
    "print(lessThan(myList))"
   ],
   "outputs": [
    {
     "output_type": "stream",
     "name": "stdout",
     "text": [
      "[1, 5, 8, 9]\n",
      "[1, 5, 8, 9]\n"
     ]
    }
   ],
   "metadata": {}
  },
  {
   "cell_type": "markdown",
   "source": [
    "## Exercise 2 <br>\n",
    "<p>Write a function that takes in two lists and returns the two lists merged together and sorted<br>\n",
    "<b><i>Hint: You can use the .sort() method</i></b></p>"
   ],
   "metadata": {}
  },
  {
   "cell_type": "code",
   "execution_count": 3,
   "source": [
    "list1 = [1,11,14,5,8,95,2,35]\r\n",
    "list2 = [1,13,50,14,5,8,9]\r\n",
    "\r\n",
    "def mergeList(list1, list2):\r\n",
    "    list3 = []\r\n",
    "    list3 = list1 + list2\r\n",
    "    list3.sort()\r\n",
    "    return list3\r\n",
    "\r\n",
    "\r\n",
    "def merge(list1, list2):\r\n",
    "    return sorted(list1+list2)"
   ],
   "outputs": [],
   "metadata": {}
  },
  {
   "cell_type": "code",
   "execution_count": 4,
   "source": [
    "print(mergeList(list1, list2))\r\n",
    "print(merge(list1, list2))"
   ],
   "outputs": [
    {
     "output_type": "stream",
     "name": "stdout",
     "text": [
      "[1, 1, 2, 5, 5, 8, 8, 9, 11, 13, 14, 14, 35, 50, 95]\n",
      "[1, 1, 2, 5, 5, 8, 8, 9, 11, 13, 14, 14, 35, 50, 95]\n"
     ]
    }
   ],
   "metadata": {}
  }
 ],
 "metadata": {
  "kernelspec": {
   "name": "python3",
   "display_name": "Python 3.9.7 64-bit"
  },
  "language_info": {
   "codemirror_mode": {
    "name": "ipython",
    "version": 3
   },
   "file_extension": ".py",
   "mimetype": "text/x-python",
   "name": "python",
   "nbconvert_exporter": "python",
   "pygments_lexer": "ipython3",
   "version": "3.9.7"
  },
  "interpreter": {
   "hash": "adce207893ee689218c1ec825ebb33ad62aba0181ed5166aa8a7675637db0cd2"
  }
 },
 "nbformat": 4,
 "nbformat_minor": 5
}