{
 "cells": [
  {
   "cell_type": "markdown",
   "id": "feca65cb",
   "metadata": {},
   "source": [
    "## Exercise 1 <br>\n",
    "<p>Given a list as a parameter,write a function that returns a list of numbers that are less than ten</b></i></p><br>\n",
    "<p> For example: Say your input parameter to the function is [1,11,14,5,8,9]...Your output should [1,5,8,9]</p>"
   ]
  },
  {
   "cell_type": "code",
   "execution_count": 1,
   "id": "d7fe458d",
   "metadata": {},
   "outputs": [],
   "source": [
    "# Use the following list - [1,11,14,5,8,9]\n",
    "myList = [1,11,14,5,8,9]\n",
    "\n",
    "def lessThanTen(myList):\n",
    "    newList = []\n",
    "    for x in myList:\n",
    "        if x < 10:\n",
    "            newList.append(x)\n",
    "    return newList"
   ]
  },
  {
   "cell_type": "code",
   "execution_count": 2,
   "id": "86938580",
   "metadata": {},
   "outputs": [
    {
     "data": {
      "text/plain": [
       "[1, 5, 8, 9]"
      ]
     },
     "execution_count": 2,
     "metadata": {},
     "output_type": "execute_result"
    }
   ],
   "source": [
    "lessThanTen(myList)"
   ]
  },
  {
   "cell_type": "markdown",
   "id": "1041e3f0",
   "metadata": {},
   "source": [
    "## Exercise 2 <br>\n",
    "<p>Write a function that takes in two lists and returns the two lists merged together and sorted<br>\n",
    "<b><i>Hint: You can use the .sort() method</i></b></p>"
   ]
  },
  {
   "cell_type": "code",
   "execution_count": 3,
   "id": "0b02224c",
   "metadata": {},
   "outputs": [],
   "source": [
    "list1 = [1,11,14,5,8,95,2,35]\n",
    "list2 = [1,13,50,14,5,8,9]\n",
    "\n",
    "def mergeList(list1, list2):\n",
    "    list3 = []\n",
    "    list3 = list1 + list2\n",
    "    list3.sort()\n",
    "    return list3"
   ]
  },
  {
   "cell_type": "code",
   "execution_count": 4,
   "id": "f4ab6129",
   "metadata": {},
   "outputs": [
    {
     "name": "stdout",
     "output_type": "stream",
     "text": [
      "[1, 1, 2, 5, 5, 8, 8, 9, 11, 13, 14, 14, 35, 50, 95]\n"
     ]
    }
   ],
   "source": [
    "print(mergeList(list1, list2))"
   ]
  }
 ],
 "metadata": {
  "kernelspec": {
   "display_name": "Python 3",
   "language": "python",
   "name": "python3"
  },
  "language_info": {
   "codemirror_mode": {
    "name": "ipython",
    "version": 3
   },
   "file_extension": ".py",
   "mimetype": "text/x-python",
   "name": "python",
   "nbconvert_exporter": "python",
   "pygments_lexer": "ipython3",
   "version": "3.8.8"
  }
 },
 "nbformat": 4,
 "nbformat_minor": 5
}
